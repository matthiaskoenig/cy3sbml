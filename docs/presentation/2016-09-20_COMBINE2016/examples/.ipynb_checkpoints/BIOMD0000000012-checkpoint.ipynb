{
 "cells": [
  {
   "cell_type": "markdown",
   "metadata": {},
   "source": [
    "# Simulation example"
   ]
  },
  {
   "cell_type": "code",
   "execution_count": 1,
   "metadata": {
    "collapsed": false
   },
   "outputs": [],
   "source": [
    "from __future__ import print_function, division\n",
    "%matplotlib inline"
   ]
  },
  {
   "cell_type": "code",
   "execution_count": 2,
   "metadata": {
    "collapsed": false
   },
   "outputs": [
    {
     "name": "stderr",
     "output_type": "stream",
     "text": [
      "INFO:root:Initialising BioModels service (WSDL)\n"
     ]
    }
   ],
   "source": [
    "import tellurium as te\n",
    "import phrasedml\n",
    "\n",
    "# Get SBML from URN and set for phrasedml\n",
    "urn = \"urn:miriam:biomodels.db:BIOMD0000000012\"\n",
    "sbmlStr = te.temiriam.getSBMLFromBiomodelsURN(urn=urn)\n",
    "phrasedml.setReferencedSBML(urn, sbmlStr)\n",
    "\n",
    "# <SBML species>\n",
    "#   PX - LacI protein\n",
    "#   PY - TetR protein\n",
    "#   PZ - cI protein\n",
    "#   X - LacI mRNA\n",
    "#   Y - TetR mRNA\n",
    "#   Z - cI mRNA\n",
    "\n",
    "# <SBML parameters>\n",
    "#   ps_a - tps_active: Transcrition from free promotor in transcripts per second and promotor\n",
    "#   ps_0 - tps_repr: Transcrition from fully repressed promotor in transcripts per second and promotor\n",
    "\n",
    "phrasedmlStr = \"\"\"\n",
    "    model1 = model \"{}\"\n",
    "    model2 = model model1 with ps_0=1.3E-5, ps_a=0.013\n",
    "    sim1 = simulate uniform(0, 1000, 1000)\n",
    "    task1 = run sim1 on model1\n",
    "    task2 = run sim1 on model2\n",
    "\n",
    "    # A simple timecourse simulation\n",
    "    plot \"Figure 1.1 Timecourse of repressilator\" task1.time vs task1.PX, task1.PZ, task1.PY\n",
    "\n",
    "    # Applying preprocessing\n",
    "    plot \"Figure 1.2 Timecourse after pre-processing\" task2.time vs task2.PX, task2.PZ, task2.PY\n",
    "\n",
    "    # Applying postprocessing\n",
    "    plot \"Figure 1.3 Timecourse after post-processing\" task1.PX/max(task1.PX) vs task1.PZ/max(task1.PZ), \\\n",
    "                                                       task1.PY/max(task1.PY) vs task1.PX/max(task1.PX), \\\n",
    "                                                       task1.PZ/max(task1.PZ) vs task1.PY/max(task1.PY)\n",
    "\"\"\".format(urn)"
   ]
  },
  {
   "cell_type": "code",
   "execution_count": 3,
   "metadata": {
    "collapsed": false
   },
   "outputs": [
    {
     "name": "stdout",
     "output_type": "stream",
     "text": [
      "\n",
      "    model1 = model \"urn:miriam:biomodels.db:BIOMD0000000012\"\n",
      "    model2 = model model1 with ps_0=1.3E-5, ps_a=0.013\n",
      "    sim1 = simulate uniform(0, 1000, 1000)\n",
      "    task1 = run sim1 on model1\n",
      "    task2 = run sim1 on model2\n",
      "\n",
      "    # A simple timecourse simulation\n",
      "    plot \"Figure 1.1 Timecourse of repressilator\" task1.time vs task1.PX, task1.PZ, task1.PY\n",
      "\n",
      "    # Applying preprocessing\n",
      "    plot \"Figure 1.2 Timecourse after pre-processing\" task2.time vs task2.PX, task2.PZ, task2.PY\n",
      "\n",
      "    # Applying postprocessing\n",
      "    plot \"Figure 1.3 Timecourse after post-processing\" task1.PX/max(task1.PX) vs task1.PZ/max(task1.PZ),                                                        task1.PY/max(task1.PY) vs task1.PX/max(task1.PX),                                                        task1.PZ/max(task1.PZ) vs task1.PY/max(task1.PY)\n",
      "\n"
     ]
    }
   ],
   "source": [
    "print(phrasedmlStr)"
   ]
  },
  {
   "cell_type": "code",
   "execution_count": null,
   "metadata": {
    "collapsed": true
   },
   "outputs": [],
   "source": [
    "# convert to SED-ML\n",
    "sedmlStr = phrasedml.convertString(phrasedmlStr)\n",
    "if sedmlStr == None:\n",
    "    print(phrasedml.getLastError())\n",
    "\n",
    "# Run the SED-ML file with results written in workingDir\n",
    "import tempfile\n",
    "import shutil\n",
    "workingDir = tempfile.mkdtemp(suffix=\"_sedml\")\n",
    "\n"
   ]
  },
  {
   "cell_type": "code",
   "execution_count": null,
   "metadata": {
    "collapsed": true
   },
   "outputs": [],
   "source": [
    "te.executeSEDML(sedmlStr, workingDir=workingDir)\n",
    "shutil.rmtree(workingDir)"
   ]
  }
 ],
 "metadata": {
  "kernelspec": {
   "display_name": "Python 2",
   "language": "python",
   "name": "python2"
  },
  "language_info": {
   "codemirror_mode": {
    "name": "ipython",
    "version": 2
   },
   "file_extension": ".py",
   "mimetype": "text/x-python",
   "name": "python",
   "nbconvert_exporter": "python",
   "pygments_lexer": "ipython2",
   "version": "2.7.6"
  }
 },
 "nbformat": 4,
 "nbformat_minor": 1
}
